{
  "nbformat": 4,
  "nbformat_minor": 0,
  "metadata": {
    "colab": {
      "name": "test.ipynb",
      "provenance": [],
      "collapsed_sections": [],
      "mount_file_id": "1870hOcUCA1xIUlUwcoZnqjXSyhZMJt78",
      "authorship_tag": "ABX9TyP/MtEW9txJy42vCkShF6tO",
      "include_colab_link": true
    },
    "kernelspec": {
      "name": "python3",
      "display_name": "Python 3"
    },
    "accelerator": "GPU"
  },
  "cells": [
    {
      "cell_type": "markdown",
      "metadata": {
        "id": "view-in-github",
        "colab_type": "text"
      },
      "source": [
        "<a href=\"https://colab.research.google.com/github/junwzm/study/blob/master/test.ipynb\" target=\"_parent\"><img src=\"https://colab.research.google.com/assets/colab-badge.svg\" alt=\"Open In Colab\"/></a>"
      ]
    },
    {
      "cell_type": "code",
      "metadata": {
        "id": "GFMXsRAzSlh_"
      },
      "source": [
        "import numpy as np\n",
        "\n",
        "import sklearn as sk\n",
        "\n"
      ],
      "execution_count": 2,
      "outputs": []
    },
    {
      "cell_type": "code",
      "metadata": {
        "id": "ras-zLzhPPvU",
        "colab": {
          "base_uri": "https://localhost:8080/"
        },
        "outputId": "5370cf2c-462f-4e75-a808-aba1a81ed1c9"
      },
      "source": [
        "import tensorflow as tf\n",
        "(x_train,y_train),(x_test,y_test) = tf.keras.datasets.mnist.load_data()\n",
        "print (x_train.shape)\n",
        "print (x_test.shape)"
      ],
      "execution_count": 26,
      "outputs": [
        {
          "output_type": "stream",
          "text": [
            "(60000, 28, 28)\n",
            "(10000, 28, 28)\n"
          ],
          "name": "stdout"
        }
      ]
    },
    {
      "cell_type": "code",
      "metadata": {
        "colab": {
          "base_uri": "https://localhost:8080/",
          "height": 287
        },
        "id": "dZPu1ILBENC8",
        "outputId": "b7a64211-f868-48c3-ecd2-34c58d0d5a83"
      },
      "source": [
        "import cv2\n",
        "import numpy as np\n",
        "from google.colab.patches import cv2_imshow\n",
        "\n",
        "# 随机选取6个图片\n",
        "for i in range(0,6):\n",
        "    random_num = np.random.randint(0, len(x_train))\n",
        "    img = x_train[random_num]\n",
        "    cv2_imshow(img)\n",
        "    cv2.waitKey(0)\n",
        "    print(img.shape)\n",
        "\n",
        "cv2.destroyAllWindows() "
      ],
      "execution_count": 22,
      "outputs": [
        {
          "output_type": "display_data",
          "data": {
            "image/png": "[encoded data removed]",
            "text/plain": [
              "<PIL.Image.Image image mode=RGB size=28x28 at 0x7F471E093990>"
            ]
          },
          "metadata": {
            "tags": []
          }
        },
        {
          "output_type": "stream",
          "text": [
            "(28, 28, 1)\n"
          ],
          "name": "stdout"
        },
        {
          "output_type": "display_data",
          "data": {
            "image/png": "[encoded data removed]",
            "text/plain": [
              "<PIL.Image.Image image mode=RGB size=28x28 at 0x7F471DA6B950>"
            ]
          },
          "metadata": {
            "tags": []
          }
        },
        {
          "output_type": "stream",
          "text": [
            "(28, 28, 1)\n"
          ],
          "name": "stdout"
        },
        {
          "output_type": "display_data",
          "data": {
            "image/png": "[encoded data removed]",
            "text/plain": [
              "<PIL.Image.Image image mode=RGB size=28x28 at 0x7F471E0B0A50>"
            ]
          },
          "metadata": {
            "tags": []
          }
        },
        {
          "output_type": "stream",
          "text": [
            "(28, 28, 1)\n"
          ],
          "name": "stdout"
        },
        {
          "output_type": "display_data",
          "data": {
            "image/png": "[encoded data removed]",
            "text/plain": [
              "<PIL.Image.Image image mode=RGB size=28x28 at 0x7F471DEDA510>"
            ]
          },
          "metadata": {
            "tags": []
          }
        },
        {
          "output_type": "stream",
          "text": [
            "(28, 28, 1)\n"
          ],
          "name": "stdout"
        },
        {
          "output_type": "display_data",
          "data": {
            "image/png": "[encoded data removed]",
            "text/plain": [
              "<PIL.Image.Image image mode=RGB size=28x28 at 0x7F471DEDAE10>"
            ]
          },
          "metadata": {
            "tags": []
          }
        },
        {
          "output_type": "stream",
          "text": [
            "(28, 28, 1)\n"
          ],
          "name": "stdout"
        },
        {
          "output_type": "display_data",
          "data": {
            "image/png": "[encoded data removed]",
            "text/plain": [
              "<PIL.Image.Image image mode=RGB size=28x28 at 0x7F471DEDAB90>"
            ]
          },
          "metadata": {
            "tags": []
          }
        },
        {
          "output_type": "stream",
          "text": [
            "(28, 28, 1)\n"
          ],
          "name": "stdout"
        }
      ]
    },
    {
      "cell_type": "code",
      "metadata": {
        "colab": {
          "base_uri": "https://localhost:8080/"
        },
        "id": "EPXB5qoyD795",
        "outputId": "d53fde2d-5f8e-4969-e453-d09eb85aa906"
      },
      "source": [
        "print(\"训练集数据维度\", str(x_train.shape))\n",
        "\n",
        "print (\"训练集feature数据量大小: \" + str(len(x_train)))\n",
        "print (\"训练集label数据量大小: \" + str(len(y_train)))\n",
        "print (\"测试集feature数据量大小: \" + str(len(x_test)))\n",
        "print (\"测试集label数据量大小: \" + str(len(y_test)))\n",
        "print()\n",
        "print (\"训练集一条数据的维度:\" + str(x_train[0].shape))\n",
        "print (\"训练集label的维度:\" + str(y_train.shape))\n",
        "print()\n",
        "print (\"测试集一条数据的维度:\" + str(x_test[0].shape))\n",
        "print (\"测试集label的形状:\" + str(y_test.shape))"
      ],
      "execution_count": 10,
      "outputs": [
        {
          "output_type": "stream",
          "text": [
            "训练集数据维度 (60000, 28, 28)\n",
            "训练集feature数据量大小: 60000\n",
            "训练集label数据量大小: 60000\n",
            "测试集feature数据量大小: 10000\n",
            "测试集label数据量大小: 10000\n",
            "\n",
            "训练集一条数据的维度:(28, 28)\n",
            "训练集label的维度:(60000,)\n",
            "\n",
            "测试集一条数据的维度:(28, 28)\n",
            "测试集label的形状:(10000,)\n"
          ],
          "name": "stdout"
        }
      ]
    },
    {
      "cell_type": "code",
      "metadata": {
        "colab": {
          "base_uri": "https://localhost:8080/",
          "height": 267
        },
        "id": "Pzu6kBA4Epfc",
        "outputId": "45d7db0f-c2c3-429c-800f-3f7758a6739f"
      },
      "source": [
        "# 导包\n",
        "import matplotlib.pyplot as plt\n",
        "\n",
        "# 2行3列 \n",
        "# cmap=plt.get_cmap('gray') 制定数据显示为灰度显示\n",
        "plt.subplot(231)\n",
        "random_num = np.random.randint(0,len(x_train))\n",
        "plt.imshow(x_train[random_num])\n",
        "\n",
        "plt.subplot(232)\n",
        "random_num = np.random.randint(0,len(x_train))\n",
        "plt.imshow(x_train[random_num] , cmap=plt.get_cmap('gray'))\n",
        "\n",
        "plt.subplot(233)\n",
        "random_num = np.random.randint(0,len(x_train))\n",
        "plt.imshow(x_train[random_num] , cmap=plt.get_cmap('gray'))\n",
        "\n",
        "plt.subplot(234)\n",
        "random_num = np.random.randint(0,len(x_train))\n",
        "plt.imshow(x_train[random_num] , cmap=plt.get_cmap('gray'))\n",
        "\n",
        "plt.subplot(235)\n",
        "random_num = np.random.randint(0,len(x_train))\n",
        "plt.imshow(x_train[random_num] , cmap=plt.get_cmap('gray'))\n",
        "\n",
        "plt.subplot(236)\n",
        "random_num = np.random.randint(0,len(x_train))\n",
        "plt.imshow(x_train[random_num], cmap=plt.get_cmap('gray')) \n",
        "\n",
        "# 展示数据 \n",
        "plt.show()"
      ],
      "execution_count": 17,
      "outputs": [
        {
          "output_type": "display_data",
          "data": {
            "image/png": "[encoded data removed]",
            "text/plain": [
              "<Figure size 432x288 with 6 Axes>"
            ]
          },
          "metadata": {
            "tags": [],
            "needs_background": "light"
          }
        }
      ]
    },
    {
      "cell_type": "code",
      "metadata": {
        "colab": {
          "base_uri": "https://localhost:8080/"
        },
        "id": "aHhnQX1lFcbw",
        "outputId": "28cebd74-bf66-4de6-c14c-2ffb5c549174"
      },
      "source": [
        "# tensorflow处理数据格式是4个维度， 彩色图（60000,28,28,3） 灰度图（60000,28,28,1）\n",
        "# 原始数据（60000,28,28） --> （60000,28,28,1）\n",
        "# 分别把测试集和训练集的数据都变成4维\n",
        "x_train = x_train.reshape(60000, 28, 28, 1)\n",
        "x_test = x_test.reshape(10000, 28, 28, 1)\n",
        "\n",
        "\n",
        "# 默认图片数据类型是int，把数据类型转化成float类型方便除法\n",
        "x_train = x_train.astype('float32')\n",
        "x_test = x_test.astype('float32')\n",
        "\n",
        "# 数据归一化 从(0 to 255) --> (0 to 1)\n",
        "x_train /= 255\n",
        "x_test /= 255\n",
        "\n",
        "print('x_train shape:', x_train.shape)\n",
        "print(x_train.shape[0], '训练集数量')\n",
        "print(x_test.shape[0], '测试集数量')"
      ],
      "execution_count": 27,
      "outputs": [
        {
          "output_type": "stream",
          "text": [
            "x_train shape: (60000, 28, 28, 1)\n",
            "60000 训练集数量\n",
            "10000 测试集数量\n"
          ],
          "name": "stdout"
        }
      ]
    },
    {
      "cell_type": "code",
      "metadata": {
        "colab": {
          "base_uri": "https://localhost:8080/"
        },
        "id": "SHyHzUopFtBY",
        "outputId": "72378826-bc22-4a1c-98b5-173887e0f484"
      },
      "source": [
        "# 利用tf工具类，独热编码\n",
        "y_train = tf.keras.utils.to_categorical(y_train)\n",
        "y_test = tf.keras.utils.to_categorical(y_test)\n",
        "\n",
        "# 打印y_train第0个元素查看内容\n",
        "\n",
        "print(y_train[1])"
      ],
      "execution_count": 28,
      "outputs": [
        {
          "output_type": "stream",
          "text": [
            "[1. 0. 0. 0. 0. 0. 0. 0. 0. 0.]\n"
          ],
          "name": "stdout"
        }
      ]
    },
    {
      "cell_type": "code",
      "metadata": {
        "colab": {
          "base_uri": "https://localhost:8080/"
        },
        "id": "NscVdEyPGq2w",
        "outputId": "a8a823d0-3c32-4104-e4d5-82e95e886212"
      },
      "source": [
        "from tensorflow.keras.models import Sequential\n",
        "from tensorflow.keras.layers import Dense, Dropout, Flatten\n",
        "from tensorflow.keras.layers import Conv2D, MaxPooling2D\n",
        "from tensorflow.keras.optimizers import SGD \n",
        "\n",
        "# create model\n",
        "model = Sequential()\n",
        "\n",
        "model.add(Conv2D(32, kernel_size=(3, 3),\n",
        "                 activation='relu',\n",
        "                 input_shape=(28,28,1)))\n",
        "model.add(Conv2D(64, (3, 3), activation='relu'))\n",
        "model.add(MaxPooling2D(pool_size=(2, 2)))\n",
        "model.add(Dropout(0.25))\n",
        "model.add(Flatten())\n",
        "model.add(Dense(128, activation='relu'))\n",
        "model.add(Dropout(0.5))\n",
        "#10种输出\n",
        "model.add(Dense(10, activation='softmax'))\n",
        "\n",
        "model.compile(loss = 'categorical_crossentropy',\n",
        "              optimizer = SGD(0.01),\n",
        "              metrics = ['accuracy'])\n",
        "\n",
        "print(model.summary())"
      ],
      "execution_count": 29,
      "outputs": [
        {
          "output_type": "stream",
          "text": [
            "Model: \"sequential\"\n",
            "_________________________________________________________________\n",
            "Layer (type)                 Output Shape              Param #   \n",
            "=================================================================\n",
            "conv2d (Conv2D)              (None, 26, 26, 32)        320       \n",
            "_________________________________________________________________\n",
            "conv2d_1 (Conv2D)            (None, 24, 24, 64)        18496     \n",
            "_________________________________________________________________\n",
            "max_pooling2d (MaxPooling2D) (None, 12, 12, 64)        0         \n",
            "_________________________________________________________________\n",
            "dropout (Dropout)            (None, 12, 12, 64)        0         \n",
            "_________________________________________________________________\n",
            "flatten (Flatten)            (None, 9216)              0         \n",
            "_________________________________________________________________\n",
            "dense (Dense)                (None, 128)               1179776   \n",
            "_________________________________________________________________\n",
            "dropout_1 (Dropout)          (None, 128)               0         \n",
            "_________________________________________________________________\n",
            "dense_1 (Dense)              (None, 10)                1290      \n",
            "=================================================================\n",
            "Total params: 1,199,882\n",
            "Trainable params: 1,199,882\n",
            "Non-trainable params: 0\n",
            "_________________________________________________________________\n",
            "None\n"
          ],
          "name": "stdout"
        }
      ]
    },
    {
      "cell_type": "code",
      "metadata": {
        "colab": {
          "base_uri": "https://localhost:8080/",
          "height": 976
        },
        "id": "qkrVPzY3HmDd",
        "outputId": "06c4521e-1fa7-4414-a084-29b2f8a1cd5f"
      },
      "source": [
        "#linux   下sudo apt-get install graphviz\n",
        "#windows 下安装 graphviz 添加环境变量\n",
        "#pip install graphviz\n",
        "#https://blog.csdn.net/Snowy_susu/article/details/90439423\n",
        "\n",
        "# 模型可视化图像保存路径\n",
        "model_diagrams_path = './'\n",
        "\n",
        "# 生成模型描述图片\n",
        "tf.keras.utils.plot_model(model, to_file = model_diagrams_path + 'model_plot.png',\n",
        "           show_shapes = True,\n",
        "           show_layer_names = True)"
      ],
      "execution_count": 30,
      "outputs": [
        {
          "output_type": "execute_result",
          "data": {
            "image/png": "[encoded data removed]",
            "text/plain": [
              "<IPython.core.display.Image object>"
            ]
          },
          "metadata": {
            "tags": []
          },
          "execution_count": 30
        }
      ]
    },
    {
      "cell_type": "code",
      "metadata": {
        "colab": {
          "base_uri": "https://localhost:8080/"
        },
        "id": "XNtnXOObIuU0",
        "outputId": "a01f8af2-b768-4f52-d17f-9d5fd43da264"
      },
      "source": [
        "#10个epochs\n",
        "#32的batch大小\n",
        "\n",
        "history = model.fit(x_train,\n",
        "                    y_train,\n",
        "                    batch_size = 64,\n",
        "                    epochs = 10,\n",
        "                    verbose = 1,\n",
        "                    validation_data = (x_test, y_test))\n",
        "\n",
        "score = model.evaluate(x_test, y_test, verbose=0)\n",
        "print('Test loss:', score[0])\n",
        "print('Test accuracy:', score[1])"
      ],
      "execution_count": 31,
      "outputs": [
        {
          "output_type": "stream",
          "text": [
            "Epoch 1/10\n",
            "938/938 [==============================] - 38s 5ms/step - loss: 1.2652 - accuracy: 0.5915 - val_loss: 0.2433 - val_accuracy: 0.9278\n",
            "Epoch 2/10\n",
            "938/938 [==============================] - 5s 5ms/step - loss: 0.3737 - accuracy: 0.8853 - val_loss: 0.1821 - val_accuracy: 0.9459\n",
            "Epoch 3/10\n",
            "938/938 [==============================] - 5s 5ms/step - loss: 0.2925 - accuracy: 0.9117 - val_loss: 0.1520 - val_accuracy: 0.9540\n",
            "Epoch 4/10\n",
            "938/938 [==============================] - 5s 5ms/step - loss: 0.2573 - accuracy: 0.9226 - val_loss: 0.1302 - val_accuracy: 0.9615\n",
            "Epoch 5/10\n",
            "938/938 [==============================] - 5s 5ms/step - loss: 0.2188 - accuracy: 0.9359 - val_loss: 0.1072 - val_accuracy: 0.9664\n",
            "Epoch 6/10\n",
            "938/938 [==============================] - 5s 5ms/step - loss: 0.1983 - accuracy: 0.9407 - val_loss: 0.0943 - val_accuracy: 0.9712\n",
            "Epoch 7/10\n",
            "938/938 [==============================] - 5s 5ms/step - loss: 0.1748 - accuracy: 0.9471 - val_loss: 0.0852 - val_accuracy: 0.9733\n",
            "Epoch 8/10\n",
            "938/938 [==============================] - 5s 5ms/step - loss: 0.1541 - accuracy: 0.9545 - val_loss: 0.0752 - val_accuracy: 0.9761\n",
            "Epoch 9/10\n",
            "938/938 [==============================] - 5s 5ms/step - loss: 0.1438 - accuracy: 0.9561 - val_loss: 0.0682 - val_accuracy: 0.9778\n",
            "Epoch 10/10\n",
            "938/938 [==============================] - 5s 5ms/step - loss: 0.1309 - accuracy: 0.9607 - val_loss: 0.0632 - val_accuracy: 0.9789\n",
            "Test loss: 0.06320831924676895\n",
            "Test accuracy: 0.9789000153541565\n"
          ],
          "name": "stdout"
        }
      ]
    },
    {
      "cell_type": "code",
      "metadata": {
        "colab": {
          "base_uri": "https://localhost:8080/"
        },
        "id": "rfWimnTGJSgl",
        "outputId": "7adb40fb-4563-4ed9-8285-1e71a6305e01"
      },
      "source": [
        "history.history"
      ],
      "execution_count": 32,
      "outputs": [
        {
          "output_type": "execute_result",
          "data": {
            "text/plain": [
              "{'accuracy': [0.762066662311554,\n",
              "  0.8941333293914795,\n",
              "  0.9140999913215637,\n",
              "  0.9255333542823792,\n",
              "  0.9366166591644287,\n",
              "  0.9430833458900452,\n",
              "  0.9490833282470703,\n",
              "  0.9548333287239075,\n",
              "  0.9586166739463806,\n",
              "  0.9619166851043701],\n",
              " 'loss': [0.7613411545753479,\n",
              "  0.34842953085899353,\n",
              "  0.28601109981536865,\n",
              "  0.24643108248710632,\n",
              "  0.2148783653974533,\n",
              "  0.19000379741191864,\n",
              "  0.17085398733615875,\n",
              "  0.1506224423646927,\n",
              "  0.13679370284080505,\n",
              "  0.12879280745983124],\n",
              " 'val_accuracy': [0.9277999997138977,\n",
              "  0.945900022983551,\n",
              "  0.9539999961853027,\n",
              "  0.9614999890327454,\n",
              "  0.9664000272750854,\n",
              "  0.9711999893188477,\n",
              "  0.9732999801635742,\n",
              "  0.9761000275611877,\n",
              "  0.9778000116348267,\n",
              "  0.9789000153541565],\n",
              " 'val_loss': [0.24331432580947876,\n",
              "  0.18211178481578827,\n",
              "  0.15197446942329407,\n",
              "  0.1301862597465515,\n",
              "  0.10718782991170883,\n",
              "  0.09426774084568024,\n",
              "  0.08517877012491226,\n",
              "  0.07523016631603241,\n",
              "  0.06815332174301147,\n",
              "  0.06320830434560776]}"
            ]
          },
          "metadata": {
            "tags": []
          },
          "execution_count": 32
        }
      ]
    },
    {
      "cell_type": "code",
      "metadata": {
        "colab": {
          "base_uri": "https://localhost:8080/",
          "height": 279
        },
        "id": "xdN3Y1jhJnjP",
        "outputId": "5615895e-33d2-4356-cda9-7e8de9c88db4"
      },
      "source": [
        "# loss图表\n",
        "# 通常测试集的数量少\n",
        "# 所以测试集的loss 小于训练集的loss\n",
        "import matplotlib.pyplot as plt\n",
        "\n",
        "history_dict = history.history\n",
        "\n",
        "loss_values = history_dict['loss']\n",
        "val_loss_values = history_dict['val_loss']\n",
        "epochs = [1,2,3,4,5,6,7,8,9,10]\n",
        "\n",
        "line1 = plt.plot(epochs, val_loss_values, label='Validation Loss')\n",
        "line2 = plt.plot(epochs, loss_values, label='Training Loss')\n",
        "\n",
        "plt.setp(line1, linewidth=2.0, marker = '+', markersize=10.0)\n",
        "plt.setp(line2, linewidth=2.0, marker = '*', markersize=10.0)\n",
        "plt.xlabel('Epochs') \n",
        "plt.ylabel('Loss')\n",
        "plt.grid(True)\n",
        "plt.legend()\n",
        "plt.show()"
      ],
      "execution_count": 33,
      "outputs": [
        {
          "output_type": "display_data",
          "data": {
            "image/png": "[encoded data removed]",
            "text/plain": [
              "<Figure size 432x288 with 1 Axes>"
            ]
          },
          "metadata": {
            "tags": [],
            "needs_background": "light"
          }
        }
      ]
    },
    {
      "cell_type": "code",
      "metadata": {
        "colab": {
          "base_uri": "https://localhost:8080/",
          "height": 279
        },
        "id": "Rm1QoU2GJqyO",
        "outputId": "c4b64d49-1196-456d-82f5-7a3ac1bc7d8a"
      },
      "source": [
        "# 精确度图表\n",
        "import matplotlib.pyplot as plt\n",
        "\n",
        "history_dict = history.history\n",
        "\n",
        "acc_values = history_dict['accuracy']\n",
        "val_acc_values = history_dict['val_accuracy']\n",
        "epochs = [1,2,3,4,5,6,7,8,9,10]\n",
        "\n",
        "line1 = plt.plot(epochs, val_acc_values, label='Validation/Test Accuracy')\n",
        "line2 = plt.plot(epochs, acc_values, label='Training Accuracy')\n",
        "plt.setp(line1, linewidth=2.0, marker = '+', markersize=10.0)\n",
        "plt.setp(line2, linewidth=2.0, marker = '4', markersize=10.0)\n",
        "plt.xlabel('Epochs') \n",
        "plt.ylabel('Accuracy')\n",
        "plt.grid(True)\n",
        "plt.legend()\n",
        "plt.show()"
      ],
      "execution_count": 34,
      "outputs": [
        {
          "output_type": "display_data",
          "data": {
            "image/png": "[encoded data removed]",
            "text/plain": [
              "<Figure size 432x288 with 1 Axes>"
            ]
          },
          "metadata": {
            "tags": [],
            "needs_background": "light"
          }
        }
      ]
    },
    {
      "cell_type": "code",
      "metadata": {
        "colab": {
          "base_uri": "https://localhost:8080/"
        },
        "id": "qgDBe0vkJtnn",
        "outputId": "e1b94cd5-8973-4437-f4b2-8bac3499896e"
      },
      "source": [
        "model.save(\"mnist_10_epoch.h5\")\n",
        "print(\"模型保存成功\")"
      ],
      "execution_count": 35,
      "outputs": [
        {
          "output_type": "stream",
          "text": [
            "模型保存成功\n"
          ],
          "name": "stdout"
        }
      ]
    },
    {
      "cell_type": "code",
      "metadata": {
        "id": "fWt0EFXBJ9wW"
      },
      "source": [
        "from tensorflow.keras.models import load_model\n",
        "\n",
        "classifier = load_model('mnist_10_epoch.h5')"
      ],
      "execution_count": 36,
      "outputs": []
    },
    {
      "cell_type": "code",
      "metadata": {
        "colab": {
          "base_uri": "https://localhost:8080/",
          "height": 1000
        },
        "id": "0FxBotIXKBEu",
        "outputId": "af89b5aa-7ad9-4c99-9e1f-8a782e4c0fe2"
      },
      "source": [
        "import cv2\n",
        "import numpy as np\n",
        "\n",
        "\n",
        "def draw_test(name, pred, input_im):\n",
        "    BLACK = [0,0,0]\n",
        "    expanded_image = cv2.copyMakeBorder(input_im, 0, 0, 0, imageL.shape[0] ,cv2.BORDER_CONSTANT,value=BLACK)\n",
        "    #cv2.imshow(\"cd\", expanded_image)\n",
        "    #cv2.waitKey(0)\n",
        "    expanded_image = cv2.cvtColor(expanded_image, cv2.COLOR_GRAY2BGR)\n",
        "    cv2.putText(expanded_image, str(pred), (152, 70) , cv2.FONT_HERSHEY_COMPLEX_SMALL,4, (0,255,0), 2)\n",
        "    cv2_imshow(expanded_image)\n",
        "\n",
        "\n",
        "for i in range(0,10):\n",
        "    #随机取一个测试集图片\n",
        "    rand = np.random.randint(0,len(x_test))\n",
        "    input_im = x_test[rand]\n",
        "\n",
        "    imageL = cv2.resize(input_im, None, fx=4, fy=4, interpolation = cv2.INTER_CUBIC)\n",
        "    #cv2.imshow(\"cd\", imageL)\n",
        "    # cv2.waitKey(0)\n",
        "    input_im = input_im.reshape(1,28,28,1) \n",
        "    \n",
        "    ##使用模型预测\n",
        "    res = str(classifier.predict_classes(input_im, 1, verbose = 0)[0])\n",
        "\n",
        "    draw_test(\"Prediction\", res, imageL) \n",
        "    cv2.waitKey(0)\n",
        "\n",
        "cv2.destroyAllWindows()"
      ],
      "execution_count": 38,
      "outputs": [
        {
          "output_type": "stream",
          "text": [
            "/usr/local/lib/python3.7/dist-packages/tensorflow/python/keras/engine/sequential.py:450: UserWarning: `model.predict_classes()` is deprecated and will be removed after 2021-01-01. Please use instead:* `np.argmax(model.predict(x), axis=-1)`,   if your model does multi-class classification   (e.g. if it uses a `softmax` last-layer activation).* `(model.predict(x) > 0.5).astype(\"int32\")`,   if your model does binary classification   (e.g. if it uses a `sigmoid` last-layer activation).\n",
            "  warnings.warn('`model.predict_classes()` is deprecated and '\n"
          ],
          "name": "stderr"
        },
        {
          "output_type": "display_data",
          "data": {
            "image/png": "[encoded data removed]",
            "text/plain": [
              "<PIL.Image.Image image mode=RGB size=224x112 at 0x7F46D2032F50>"
            ]
          },
          "metadata": {
            "tags": []
          }
        },
        {
          "output_type": "display_data",
          "data": {
            "image/png": "[encoded data removed]",
            "text/plain": [
              "<PIL.Image.Image image mode=RGB size=224x112 at 0x7F471DA44E10>"
            ]
          },
          "metadata": {
            "tags": []
          }
        },
        {
          "output_type": "display_data",
          "data": {
            "image/png": "[encoded data removed]",
            "text/plain": [
              "<PIL.Image.Image image mode=RGB size=224x112 at 0x7F471DF019D0>"
            ]
          },
          "metadata": {
            "tags": []
          }
        },
        {
          "output_type": "display_data",
          "data": {
            "image/png": "[encoded data removed]",
            "text/plain": [
              "<PIL.Image.Image image mode=RGB size=224x112 at 0x7F46D207C490>"
            ]
          },
          "metadata": {
            "tags": []
          }
        },
        {
          "output_type": "display_data",
          "data": {
            "image/png": "[encoded data removed]",
            "text/plain": [
              "<PIL.Image.Image image mode=RGB size=224x112 at 0x7F471E110C90>"
            ]
          },
          "metadata": {
            "tags": []
          }
        },
        {
          "output_type": "display_data",
          "data": {
            "image/png": "[encoded data removed]",
            "text/plain": [
              "<PIL.Image.Image image mode=RGB size=224x112 at 0x7F475C58F910>"
            ]
          },
          "metadata": {
            "tags": []
          }
        },
        {
          "output_type": "display_data",
          "data": {
            "image/png": "[encoded data removed]",
            "text/plain": [
              "<PIL.Image.Image image mode=RGB size=224x112 at 0x7F472793EAD0>"
            ]
          },
          "metadata": {
            "tags": []
          }
        },
        {
          "output_type": "display_data",
          "data": {
            "image/png": "[encoded data removed]",
            "text/plain": [
              "<PIL.Image.Image image mode=RGB size=224x112 at 0x7F46C179E850>"
            ]
          },
          "metadata": {
            "tags": []
          }
        },
        {
          "output_type": "display_data",
          "data": {
            "image/png": "[encoded data removed]",
            "text/plain": [
              "<PIL.Image.Image image mode=RGB size=224x112 at 0x7F46CB6E8310>"
            ]
          },
          "metadata": {
            "tags": []
          }
        },
        {
          "output_type": "display_data",
          "data": {
            "image/png": "[encoded data removed]",
            "text/plain": [
              "<PIL.Image.Image image mode=RGB size=224x112 at 0x7F46D204B510>"
            ]
          },
          "metadata": {
            "tags": []
          }
        }
      ]
    },
    {
      "cell_type": "code",
      "metadata": {
        "id": "PE2LGx4pKGLI"
      },
      "source": [
        ""
      ],
      "execution_count": null,
      "outputs": []
    }
  ]
}